{
 "cells": [
  {
   "cell_type": "code",
   "execution_count": 1,
   "id": "b87477c1",
   "metadata": {},
   "outputs": [],
   "source": [
    "#(1) Print the display_board\n",
    "from IPython.display import clear_output #only works in jupyter\n",
    "\n",
    "def display_board(board):\n",
    "    clear_output() #only works in jupyter\n",
    "    \n",
    "    print(board[7]+'|'+board[8]+'|'+board[9])\n",
    "    print('-----')\n",
    "    print(board[4]+'|'+board[5]+'|'+board[6])\n",
    "    print('-----')\n",
    "    print(board[1]+'|'+board[2]+'|'+board[3])"
   ]
  },
  {
   "cell_type": "code",
   "execution_count": 4,
   "id": "379ad5cc",
   "metadata": {},
   "outputs": [
    {
     "name": "stdout",
     "output_type": "stream",
     "text": [
      "X|O|X\n",
      "-----\n",
      "O|X|O\n",
      "-----\n",
      "X|O|X\n"
     ]
    }
   ],
   "source": [
    "#test for (1)\n",
    "test_board = ['#','X','O','X','O','X','O','X','O','X']\n",
    "display_board(test_board)"
   ]
  },
  {
   "cell_type": "code",
   "execution_count": 84,
   "id": "71c3c9be",
   "metadata": {},
   "outputs": [],
   "source": [
    "#(2) take player input then assign markers as 'X' or 'O'\n",
    "def player_input():\n",
    "    marker=''\n",
    "    \n",
    "    while marker != 'X' and marker != 'O':\n",
    "        marker = input(\"Player1,plz choose your marker ('X' or 'O'): \").upper()\n",
    "        if marker != 'X' and marker != 'O':\n",
    "            print('Invalid input')\n",
    "    if marker == 'X':\n",
    "        player_marker_dic = {'P1':'X','P2':'O'}\n",
    "        return (player_marker_dic['P1'],player_marker_dic['P2'])\n",
    "    else:\n",
    "        player_marker_dic = {'P1':'O','P2':'X'}\n",
    "        return (player_marker_dic['P1'],player_marker_dic['P2'])"
   ]
  },
  {
   "cell_type": "code",
   "execution_count": 34,
   "id": "756b7fbf",
   "metadata": {},
   "outputs": [
    {
     "name": "stdout",
     "output_type": "stream",
     "text": [
      "Player1,plz choose your marker ('X' or 'Y'): 1\n",
      "Invalid input\n",
      "Player1,plz choose your marker ('X' or 'Y'): x\n"
     ]
    },
    {
     "data": {
      "text/plain": [
       "('X', 'O')"
      ]
     },
     "execution_count": 34,
     "metadata": {},
     "output_type": "execute_result"
    }
   ],
   "source": [
    "#test for (2)\n",
    "player_input()"
   ]
  },
  {
   "cell_type": "code",
   "execution_count": 37,
   "id": "aa7eb76c",
   "metadata": {},
   "outputs": [],
   "source": [
    "#(3) takes the marker('X' or 'O') and position (1-9) into the board\n",
    "def place_marker(board,marker,position):\n",
    "    board[position] = marker"
   ]
  },
  {
   "cell_type": "code",
   "execution_count": 38,
   "id": "b00bd9a5",
   "metadata": {},
   "outputs": [
    {
     "name": "stdout",
     "output_type": "stream",
     "text": [
      "X|O|$\n",
      "-----\n",
      "O|X|O\n",
      "-----\n",
      "X|O|X\n"
     ]
    }
   ],
   "source": [
    "#test for (3)\n",
    "place_marker(test_board,'$',9)\n",
    "print(test_board)\n",
    "display_board(test_board)"
   ]
  },
  {
   "cell_type": "code",
   "execution_count": 40,
   "id": "eaa0f4c4",
   "metadata": {},
   "outputs": [],
   "source": [
    "#(4) win check\n",
    "def win_check(board,mark):\n",
    "    return ((board[1] == board[2] == board[3] == mark) or\n",
    "            (board[4] == board[5] == board[6] == mark) or\n",
    "            (board[7] == board[8] == board[9] == mark) or\n",
    "            (board[1] == board[4] == board[7] == mark) or\n",
    "            (board[2] == board[5] == board[8] == mark) or\n",
    "            (board[3] == board[6] == board[9] == mark) or\n",
    "            (board[1] == board[5] == board[9] == mark) or\n",
    "            (board[3] == board[5] == board[7] == mark))"
   ]
  },
  {
   "cell_type": "code",
   "execution_count": 43,
   "id": "0b22b69e",
   "metadata": {},
   "outputs": [
    {
     "name": "stdout",
     "output_type": "stream",
     "text": [
      "False\n",
      "True\n"
     ]
    }
   ],
   "source": [
    "#test for (4)\n",
    "print(win_check(test_board,'O'))\n",
    "print(win_check(test_board,'X'))"
   ]
  },
  {
   "cell_type": "code",
   "execution_count": 44,
   "id": "ff5d15dd",
   "metadata": {},
   "outputs": [],
   "source": [
    "#(5) who first?\n",
    "import random\n",
    "\n",
    "def choose_first():\n",
    "    if random.randint(0,1) == 0:\n",
    "        return 'P1'\n",
    "    else:\n",
    "        return 'P2'"
   ]
  },
  {
   "cell_type": "code",
   "execution_count": 48,
   "id": "46f75cfb",
   "metadata": {
    "scrolled": true
   },
   "outputs": [
    {
     "data": {
      "text/plain": [
       "'P2'"
      ]
     },
     "execution_count": 48,
     "metadata": {},
     "output_type": "execute_result"
    }
   ],
   "source": [
    "#test for (5)\n",
    "choose_first()"
   ]
  },
  {
   "cell_type": "code",
   "execution_count": 51,
   "id": "0c69b804",
   "metadata": {},
   "outputs": [],
   "source": [
    "#(6) space check\n",
    "\n",
    "#space check\n",
    "def space_check(board,position):\n",
    "    return board[position] == ' '"
   ]
  },
  {
   "cell_type": "code",
   "execution_count": 54,
   "id": "109ecd54",
   "metadata": {
    "scrolled": true
   },
   "outputs": [
    {
     "name": "stdout",
     "output_type": "stream",
     "text": [
      "True\n",
      "False\n"
     ]
    }
   ],
   "source": [
    "#test for (6)\n",
    "test1_board = [' '] * 4 +['O','X','O','X','X','O']\n",
    "print(space_check(test1_board,3))\n",
    "print(space_check(test1_board,4))"
   ]
  },
  {
   "cell_type": "code",
   "execution_count": 55,
   "id": "e288abb3",
   "metadata": {},
   "outputs": [],
   "source": [
    "#(7) full board check\n",
    "def full_board_check(board):\n",
    "    for i in range(1,10):\n",
    "        if space_check(board,i):\n",
    "            return False\n",
    "    return True"
   ]
  },
  {
   "cell_type": "code",
   "execution_count": 56,
   "id": "57d56ba5",
   "metadata": {},
   "outputs": [
    {
     "name": "stdout",
     "output_type": "stream",
     "text": [
      "True\n",
      "False\n"
     ]
    }
   ],
   "source": [
    "#test for (7)\n",
    "print(full_board_check(test_board))\n",
    "print(full_board_check(test1_board))"
   ]
  },
  {
   "cell_type": "code",
   "execution_count": 69,
   "id": "c49dfc30",
   "metadata": {},
   "outputs": [],
   "source": [
    "#(8) choose the position,also check if the input position is still free\n",
    "def player_choice(board):\n",
    "    position = 0\n",
    "    \n",
    "    while position not in range(1,10):\n",
    "        position = int(input(\"Plz choose the position(1-9): \"))\n",
    "        if position not in range(1,10):\n",
    "            print(\"Invalid input\")\n",
    "        elif not space_check(board,position):\n",
    "            print(\"Sry,that position has already taken\")\n",
    "            return player_choice(board)\n",
    "        else:\n",
    "            return position"
   ]
  },
  {
   "cell_type": "code",
   "execution_count": 72,
   "id": "f9b08485",
   "metadata": {},
   "outputs": [
    {
     "name": "stdout",
     "output_type": "stream",
     "text": [
      "[' ', ' ', ' ', ' ', 'O', 'X', 'O', 'X', 'X', 'O']\n",
      "Plz choose the position(1-9): 10\n",
      "Invalid input\n",
      "Plz choose the position(1-9): 4\n",
      "Sry,that position has already taken\n",
      "Plz choose the position(1-9): 3\n"
     ]
    },
    {
     "data": {
      "text/plain": [
       "3"
      ]
     },
     "execution_count": 72,
     "metadata": {},
     "output_type": "execute_result"
    }
   ],
   "source": [
    "#test for (8)\n",
    "print(test1_board)\n",
    "player_choice(test1_board)"
   ]
  },
  {
   "cell_type": "code",
   "execution_count": 73,
   "id": "eff317b4",
   "metadata": {},
   "outputs": [],
   "source": [
    "#(9) replay or not\n",
    "def replay():\n",
    "    replay_game = input(\"Do you wanna play one more times?('yes' or 'no') :\").lower()\n",
    "    if replay_game == 'yes':\n",
    "        return True\n",
    "    elif replay_game == 'no':\n",
    "        return False\n",
    "    else:\n",
    "        print('Invalid input')\n",
    "        return replay()"
   ]
  },
  {
   "cell_type": "code",
   "execution_count": 74,
   "id": "ef56b2da",
   "metadata": {},
   "outputs": [
    {
     "name": "stdout",
     "output_type": "stream",
     "text": [
      "Do you wanna play one more times?('yes' or 'no') :y\n",
      "Invalid input\n",
      "Do you wanna play one more times?('yes' or 'no') :YES\n"
     ]
    },
    {
     "data": {
      "text/plain": [
       "True"
      ]
     },
     "execution_count": 74,
     "metadata": {},
     "output_type": "execute_result"
    }
   ],
   "source": [
    "#test for (9)\n",
    "replay()"
   ]
  },
  {
   "cell_type": "code",
   "execution_count": 95,
   "id": "be1bf41e",
   "metadata": {},
   "outputs": [
    {
     "name": "stdout",
     "output_type": "stream",
     "text": [
      "Welcome to the Tic Tac Toe (2023/07/21made by Terry-Cherry).\n",
      "Player1,plz choose your marker ('X' or 'O'): 1\n",
      "Invalid input\n",
      "Player1,plz choose your marker ('X' or 'O'): x\n",
      "Are you ready for the game?('yes' or 'no'): y\n",
      "Invalid input\n",
      "Are you ready for the game?('yes' or 'no'): y\n",
      "Invalid input\n",
      "Are you ready for the game?('yes' or 'no'): n\n",
      "Invalid input\n",
      "Are you ready for the game?('yes' or 'no'): no\n",
      "Do you wanna play one more times?('yes' or 'no') :no\n",
      "Goodbye!\n"
     ]
    }
   ],
   "source": [
    "#(10) Involve all def\n",
    "print(\"Welcome to the Tic Tac Toe (2023/07/21made by Terry-Cherry).\")\n",
    "\n",
    "#set the board and who go first\n",
    "board = [\" \"] * 10\n",
    "turn = choose_first()\n",
    "#let player1 choose the marker\n",
    "(P1,P2) = player_input()\n",
    "#ask if user wanna play\n",
    "while True:\n",
    "    play = input(\"Are you ready for the game?('yes' or 'no'): \").lower()\n",
    "    if play == 'yes':\n",
    "        game_on = True\n",
    "    elif play == 'no':\n",
    "        game_on = False\n",
    "    else:\n",
    "        print('Invalid input')\n",
    "        continue\n",
    "        \n",
    "    while game_on:\n",
    "    \n",
    "        #Who go first?\n",
    "        print(turn +' go first!') \n",
    "    \n",
    "        #if it's p1 turn\n",
    "        if turn == 'P1':\n",
    "            display_board(board)\n",
    "            position = player_choice(board)\n",
    "            place_marker(board,P1,position)\n",
    "            if win_check(board,P1):\n",
    "                print(\"P1 has win the game!\")\n",
    "                display_board(board)\n",
    "                game_on = False\n",
    "            elif full_board_check(board):\n",
    "                display_board(board)\n",
    "                print(\"It's a tie!\")\n",
    "                game_on = False\n",
    "            else:\n",
    "                turn = 'P2'\n",
    "\n",
    "        #if it's p2 turn\n",
    "        else:\n",
    "            display_board(board)\n",
    "            position = player_choice(board)\n",
    "            place_marker(board,P2,position)\n",
    "            if win_check(board,P2):\n",
    "                display_board(board)\n",
    "                print(\"P2 has win the game!\")\n",
    "                game_on = False\n",
    "            elif full_board_check(board):\n",
    "                display_board(board)\n",
    "                print(\"It's a tie!\")\n",
    "                game_on = False\n",
    "            else:\n",
    "                turn = 'P1'\n",
    "\n",
    "        #ask for playing again\n",
    "        \n",
    "    if not replay():\n",
    "        print(\"Goodbye!\")\n",
    "        break"
   ]
  },
  {
   "cell_type": "code",
   "execution_count": null,
   "id": "53455521",
   "metadata": {},
   "outputs": [],
   "source": []
  }
 ],
 "metadata": {
  "kernelspec": {
   "display_name": "Python 3 (ipykernel)",
   "language": "python",
   "name": "python3"
  },
  "language_info": {
   "codemirror_mode": {
    "name": "ipython",
    "version": 3
   },
   "file_extension": ".py",
   "mimetype": "text/x-python",
   "name": "python",
   "nbconvert_exporter": "python",
   "pygments_lexer": "ipython3",
   "version": "3.10.9"
  }
 },
 "nbformat": 4,
 "nbformat_minor": 5
}
